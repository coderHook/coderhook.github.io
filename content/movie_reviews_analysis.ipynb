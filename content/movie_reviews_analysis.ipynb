{
 "cells": [
  {
   "cell_type": "markdown",
   "metadata": {},
   "source": [
    "\n",
    "\n",
    "# Analizando las calificaciones de las peliculas: Analisis Estadistico, Visualizando resultados y obteniendo predicciones.\n",
    "\n",
    "\n",
    "### En este proyecto vamos a continuar analizando recomendaciones de peliculas, pero esta vez vamos a usar estadistica para programar manualmente con pytho la regresion linear y ver como de dispersas estan las recomendaciones de la prediccion que nosotros vamos a hacer. De esta manera podemos obtener la precision de nuestras predicciones de manera visual.\n",
    "\n",
    "- slope, intercept, r_value, p_value, stderr"
   ]
  },
  {
   "cell_type": "code",
   "execution_count": 1,
   "metadata": {},
   "outputs": [
    {
     "name": "stdout",
     "output_type": "stream",
     "text": [
      "                             FILM  RottenTomatoes  RottenTomatoes_User  \\\n",
      "0  Avengers: Age of Ultron (2015)              74                   86   \n",
      "1               Cinderella (2015)              85                   80   \n",
      "2                  Ant-Man (2015)              80                   90   \n",
      "\n",
      "   Metacritic  Metacritic_User  IMDB  Fandango_Stars  Fandango_Ratingvalue  \\\n",
      "0          66              7.1   7.8             5.0                   4.5   \n",
      "1          67              7.5   7.1             5.0                   4.5   \n",
      "2          64              8.1   7.8             5.0                   4.5   \n",
      "\n",
      "   RT_norm  RT_user_norm         ...           IMDB_norm  RT_norm_round  \\\n",
      "0     3.70           4.3         ...                3.90            3.5   \n",
      "1     4.25           4.0         ...                3.55            4.5   \n",
      "2     4.00           4.5         ...                3.90            4.0   \n",
      "\n",
      "   RT_user_norm_round  Metacritic_norm_round  Metacritic_user_norm_round  \\\n",
      "0                 4.5                    3.5                         3.5   \n",
      "1                 4.0                    3.5                         4.0   \n",
      "2                 4.5                    3.0                         4.0   \n",
      "\n",
      "   IMDB_norm_round  Metacritic_user_vote_count  IMDB_user_vote_count  \\\n",
      "0              4.0                        1330                271107   \n",
      "1              3.5                         249                 65709   \n",
      "2              4.0                         627                103660   \n",
      "\n",
      "   Fandango_votes  Fandango_Difference  \n",
      "0           14846                  0.5  \n",
      "1           12640                  0.5  \n",
      "2           12055                  0.5  \n",
      "\n",
      "[3 rows x 22 columns]\n"
     ]
    }
   ],
   "source": [
    "import pandas as pd\n",
    "\n",
    "movies = pd.read_csv(\"fandango_score_comparison.csv\")\n",
    "print(movies.head(3))"
   ]
  },
  {
   "cell_type": "code",
   "execution_count": 2,
   "metadata": {
    "collapsed": true
   },
   "outputs": [],
   "source": [
    "%matplotlib inline\n",
    "import matplotlib.pyplot as plt"
   ]
  },
  {
   "cell_type": "code",
   "execution_count": 3,
   "metadata": {},
   "outputs": [
    {
     "data": {
      "image/png": "[encoded data removed]",
      "text/plain": [
       "<matplotlib.figure.Figure at 0x10c6e9db4e0>"
      ]
     },
     "metadata": {},
     "output_type": "display_data"
    }
   ],
   "source": [
    "plt.hist(movies[\"Metacritic_norm_round\"])\n",
    "plt.show()"
   ]
  },
  {
   "cell_type": "code",
   "execution_count": 4,
   "metadata": {},
   "outputs": [
    {
     "data": {
      "image/png": "[encoded data removed]",
      "text/plain": [
       "<matplotlib.figure.Figure at 0x10c70f7e198>"
      ]
     },
     "metadata": {},
     "output_type": "display_data"
    }
   ],
   "source": [
    "plt.hist(movies[\"Fandango_Stars\"])\n",
    "plt.show()"
   ]
  },
  {
   "cell_type": "markdown",
   "metadata": {},
   "source": [
    "\n",
    "\n",
    "- Como podemos ver, hay una gran diferencia entre los ratings de Fandango y Metacritic. Metacritic como podemos observar tiene muchas mas reviews con una puntuacion mas alta de 3 que Fandango."
   ]
  },
  {
   "cell_type": "markdown",
   "metadata": {},
   "source": [
    "# Media, Mediana y Desviacion Estandar (Mean, Median, And Standard Deviation)"
   ]
  },
  {
   "cell_type": "markdown",
   "metadata": {
    "collapsed": true
   },
   "source": [
    "- Vamos a cuantificar las diferencias que podemos apreciar en ambos histogramas."
   ]
  },
  {
   "cell_type": "code",
   "execution_count": 5,
   "metadata": {
    "collapsed": true
   },
   "outputs": [],
   "source": [
    "import numpy as np\n"
   ]
  },
  {
   "cell_type": "code",
   "execution_count": 6,
   "metadata": {
    "collapsed": true
   },
   "outputs": [],
   "source": [
    "means =[movies[\"Fandango_Stars\"].mean(),  movies[\"Metacritic_norm_round\"].mean()]"
   ]
  },
  {
   "cell_type": "code",
   "execution_count": 7,
   "metadata": {},
   "outputs": [
    {
     "name": "stdout",
     "output_type": "stream",
     "text": [
      "[4.089041095890411, 2.9726027397260273]\n"
     ]
    }
   ],
   "source": [
    "print(means)"
   ]
  },
  {
   "cell_type": "code",
   "execution_count": 8,
   "metadata": {
    "collapsed": true
   },
   "outputs": [],
   "source": [
    "medians = [np.median(movies[\"Fandango_Stars\"]), np.median(movies[\"Metacritic_norm_round\"])]"
   ]
  },
  {
   "cell_type": "code",
   "execution_count": 9,
   "metadata": {},
   "outputs": [
    {
     "name": "stdout",
     "output_type": "stream",
     "text": [
      "[4.0, 3.0]\n"
     ]
    }
   ],
   "source": [
    "print(medians)"
   ]
  },
  {
   "cell_type": "code",
   "execution_count": 10,
   "metadata": {
    "collapsed": true
   },
   "outputs": [],
   "source": [
    "std_dev = [movies[\"Fandango_Stars\"].std(),  movies[\"Metacritic_norm_round\"].std()]"
   ]
  },
  {
   "cell_type": "code",
   "execution_count": 11,
   "metadata": {},
   "outputs": [
    {
     "name": "stdout",
     "output_type": "stream",
     "text": [
      "[0.5403859779787333, 0.9909605613743364]\n"
     ]
    }
   ],
   "source": [
    "print(std_dev)"
   ]
  },
  {
   "cell_type": "markdown",
   "metadata": {},
   "source": [
    "### Metodologia para Metacritic y Fandango. ¿Como sacan sus ratings?\n",
    "\n",
    "###### Esto solo lo podemos saber visitando sus respectivas webs y leyendo sus documentaciones. A continuacion pongo lo que podemos averiguar:\n",
    "\n",
    "- Metacritic no usa los votos de los usarios. Puedes ver los votos pero la calificacion principar que aparece es independiente y solo toma votos de gente profesional.\n",
    "\n",
    "- Fandango tomo los votos de los usarios en un sistema de 5 estrellas. Aparentemente todas las peliculas obtienen un rating de 3+"
   ]
  },
  {
   "cell_type": "markdown",
   "metadata": {},
   "source": [
    "### Algunos insigths que obtenemos de los datos:\n",
    "\n",
    "\n",
    "- Podemos apreciar que, mientras que la media en Metacritic es menor que la mediana, en Fandango pasa lo contrario. La media es mayor que la mediana. Esto es debido a que los datos en Fandango estan sesgados hacia valores altos, siempre > 3.\n",
    "\n",
    "- La desviacion estandar: Podemos apreciar que es menor en Fandango que en Metacritic. El rango en el que se mueven al final en Fandango es de 3 a 5 por lo que le margen de error es menor.\n",
    "\n",
    "- La media de Fandango es mayor porque los valores van de 3 a 5 y en Metacritic de 1 a 5.\n",
    "\n",
    "- Finalmente, podemos apreciar que la desviacion estandar es menor en Fandango que en Metacritic, esto sugiera que los datos estan mas dispersos que la media en Metacritic y que en Fandango. Asi en Fandango esto esta mas correlacionado. Vamos a verlo a continuación."
   ]
  },
  {
   "cell_type": "markdown",
   "metadata": {},
   "source": [
    "# Scatter Plots"
   ]
  },
  {
   "cell_type": "code",
   "execution_count": 12,
   "metadata": {},
   "outputs": [
    {
     "data": {
      "image/png": "[encoded data removed]",
      "text/plain": [
       "<matplotlib.figure.Figure at 0x10c71bdf240>"
      ]
     },
     "metadata": {},
     "output_type": "display_data"
    }
   ],
   "source": [
    "plt.scatter(movies[\"Fandango_Stars\"], movies[\"Metacritic_norm_round\"], c=\"r\")\n",
    "plt.grid()\n",
    "plt.show()"
   ]
  },
  {
   "cell_type": "code",
   "execution_count": 13,
   "metadata": {
    "collapsed": true
   },
   "outputs": [],
   "source": [
    "# Continue with the second point."
   ]
  },
  {
   "cell_type": "code",
   "execution_count": 14,
   "metadata": {
    "collapsed": true
   },
   "outputs": [],
   "source": [
    "movies[\"fm_diff\"] = np.abs(movies[\"Metacritic_norm_round\"] - movies[\"Fandango_Stars\"])"
   ]
  },
  {
   "cell_type": "code",
   "execution_count": 16,
   "metadata": {},
   "outputs": [
    {
     "name": "stdout",
     "output_type": "stream",
     "text": [
      "                              FILM  RottenTomatoes  RottenTomatoes_User  \\\n",
      "3           Do You Believe? (2015)              18                   84   \n",
      "47                    Annie (2014)              27                   61   \n",
      "19                   Pixels (2015)              17                   54   \n",
      "134        The Longest Ride (2015)              31                   73   \n",
      "133  Paul Blart: Mall Cop 2 (2015)               5                   36   \n",
      "\n",
      "     Metacritic  Metacritic_User  IMDB  Fandango_Stars  Fandango_Ratingvalue  \\\n",
      "3            22              4.7   5.4             5.0                   4.5   \n",
      "47           33              4.8   5.2             4.5                   4.2   \n",
      "19           27              5.3   5.6             4.5                   4.1   \n",
      "134          33              4.8   7.2             4.5                   4.5   \n",
      "133          13              2.4   4.3             3.5                   3.5   \n",
      "\n",
      "     RT_norm  RT_user_norm   ...     RT_norm_round  RT_user_norm_round  \\\n",
      "3       0.90          4.20   ...               1.0                 4.0   \n",
      "47      1.35          3.05   ...               1.5                 3.0   \n",
      "19      0.85          2.70   ...               1.0                 2.5   \n",
      "134     1.55          3.65   ...               1.5                 3.5   \n",
      "133     0.25          1.80   ...               0.5                 2.0   \n",
      "\n",
      "     Metacritic_norm_round  Metacritic_user_norm_round  IMDB_norm_round  \\\n",
      "3                      1.0                         2.5              2.5   \n",
      "47                     1.5                         2.5              2.5   \n",
      "19                     1.5                         2.5              3.0   \n",
      "134                    1.5                         2.5              3.5   \n",
      "133                    0.5                         1.0              2.0   \n",
      "\n",
      "     Metacritic_user_vote_count  IMDB_user_vote_count  Fandango_votes  \\\n",
      "3                            31                  3136            1793   \n",
      "47                          108                 19222            6835   \n",
      "19                          246                 19521            3886   \n",
      "134                          49                 25214            2603   \n",
      "133                         211                 15004            3054   \n",
      "\n",
      "     Fandango_Difference  fm_diff  \n",
      "3                    0.5      4.0  \n",
      "47                   0.3      3.0  \n",
      "19                   0.4      3.0  \n",
      "134                  0.0      3.0  \n",
      "133                  0.0      3.0  \n",
      "\n",
      "[5 rows x 23 columns]\n"
     ]
    }
   ],
   "source": [
    "\n",
    "movies = movies.sort_values(by=\"fm_diff\", ascending=False)\n",
    "\n",
    "print(movies.head())"
   ]
  },
  {
   "cell_type": "markdown",
   "metadata": {},
   "source": [
    "# Correlaciones."
   ]
  },
  {
   "cell_type": "code",
   "execution_count": 17,
   "metadata": {
    "collapsed": true
   },
   "outputs": [],
   "source": [
    "from scipy.stats import pearsonr "
   ]
  },
  {
   "cell_type": "code",
   "execution_count": 18,
   "metadata": {},
   "outputs": [
    {
     "data": {
      "text/plain": [
       "0.17844919073895918"
      ]
     },
     "execution_count": 18,
     "metadata": {},
     "output_type": "execute_result"
    }
   ],
   "source": [
    "r_value, p_value = pearsonr(movies[\"Fandango_Stars\"], movies[\"Metacritic_norm_round\"])\n",
    "r_value"
   ]
  },
  {
   "cell_type": "markdown",
   "metadata": {},
   "source": [
    "\n",
    "- Como podemos ver, el r_value que obtenemos de la correlacion entre \"Fandango_Stars\" y \"Metacritic_norm_round\" esta cerca de cero, lo que significa que ambas variables tienen una correlacion baja. Por el contrario si esta estuviera cerca de 1 tendrian una alta correlacion."
   ]
  },
  {
   "cell_type": "code",
   "execution_count": 19,
   "metadata": {
    "collapsed": true
   },
   "outputs": [],
   "source": [
    "from scipy.stats import linregress"
   ]
  },
  {
   "cell_type": "code",
   "execution_count": 20,
   "metadata": {
    "collapsed": true
   },
   "outputs": [],
   "source": [
    "slope, intercept, r_value, p_value, stderr = linregress(movies[\"Metacritic_norm_round\"], movies[\"Fandango_Stars\"])"
   ]
  },
  {
   "cell_type": "code",
   "execution_count": 21,
   "metadata": {},
   "outputs": [
    {
     "data": {
      "text/plain": [
       "0.17844919073895879"
      ]
     },
     "execution_count": 21,
     "metadata": {},
     "output_type": "execute_result"
    }
   ],
   "source": [
    "r_value"
   ]
  },
  {
   "cell_type": "markdown",
   "metadata": {},
   "source": [
    "\n",
    "### Vamos a predecir que puntuacion tendiran los que votaron 3 en Metacritic a Fandango."
   ]
  },
  {
   "cell_type": "code",
   "execution_count": 22,
   "metadata": {},
   "outputs": [
    {
     "data": {
      "text/plain": [
       "4.0917071528212041"
      ]
     },
     "execution_count": 22,
     "metadata": {},
     "output_type": "execute_result"
    }
   ],
   "source": [
    "value_to_pred = 3\n",
    "pred_3 = value_to_pred * slope + intercept\n",
    "pred_3"
   ]
  },
  {
   "cell_type": "markdown",
   "metadata": {},
   "source": [
    "# Encontrando Residuos \"Residuals\"\n",
    "\n",
    "#### Vamos a ver si ambas variable estan linealmente relacionadas o no."
   ]
  },
  {
   "cell_type": "code",
   "execution_count": 23,
   "metadata": {},
   "outputs": [
    {
     "data": {
      "text/plain": [
       "3.897084996873347"
      ]
     },
     "execution_count": 23,
     "metadata": {},
     "output_type": "execute_result"
    }
   ],
   "source": [
    "pred_1 = 1*slope + intercept\n",
    "pred_1"
   ]
  },
  {
   "cell_type": "code",
   "execution_count": 24,
   "metadata": {},
   "outputs": [
    {
     "data": {
      "text/plain": [
       "4.2863293087690604"
      ]
     },
     "execution_count": 24,
     "metadata": {},
     "output_type": "execute_result"
    }
   ],
   "source": [
    "pred_5 = 5*slope + intercept\n",
    "pred_5"
   ]
  },
  {
   "cell_type": "code",
   "execution_count": 25,
   "metadata": {},
   "outputs": [
    {
     "data": {
      "image/png": "[encoded data removed]",
      "text/plain": [
       "<matplotlib.figure.Figure at 0x10c72697588>"
      ]
     },
     "metadata": {},
     "output_type": "display_data"
    }
   ],
   "source": [
    "plt.scatter(movies[\"Metacritic_norm_round\"], movies[\"Fandango_Stars\"])\n",
    "plt.plot([1.0, 5.0], [pred_1, pred_5])\n",
    "plt.xlim([1.0, 5.0])\n",
    "plt.show()"
   ]
  },
  {
   "cell_type": "code",
   "execution_count": null,
   "metadata": {
    "collapsed": true
   },
   "outputs": [],
   "source": []
  },
  {
   "cell_type": "code",
   "execution_count": null,
   "metadata": {
    "collapsed": true
   },
   "outputs": [],
   "source": []
  },
  {
   "cell_type": "code",
   "execution_count": null,
   "metadata": {
    "collapsed": true
   },
   "outputs": [],
   "source": []
  },
  {
   "cell_type": "code",
   "execution_count": null,
   "metadata": {
    "collapsed": true
   },
   "outputs": [],
   "source": []
  }
 ],
 "metadata": {
  "kernelspec": {
   "display_name": "Python 3",
   "language": "python",
   "name": "python3"
  },
  "language_info": {
   "codemirror_mode": {
    "name": "ipython",
    "version": 3
   },
   "file_extension": ".py",
   "mimetype": "text/x-python",
   "name": "python",
   "nbconvert_exporter": "python",
   "pygments_lexer": "ipython3",
   "version": "3.6.1"
  }
 },
 "nbformat": 4,
 "nbformat_minor": 1
}
