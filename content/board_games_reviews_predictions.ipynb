{
 "cells": [
  {
   "cell_type": "markdown",
   "metadata": {},
   "source": [
    "# Prediciendo las calificaciones de las peliculas\n",
    "\n",
    "### En este proyecto vamos a escoger que error utilizar para nuestro modelo. Trabajaremos con Clusters y comprobaremos su correlacion. Finalmente, vamos a crear un modelo para realizar nuestras predicciones y ver como se ajustan estas a la realidad."
   ]
  },
  {
   "cell_type": "code",
   "execution_count": 1,
   "metadata": {},
   "outputs": [
    {
     "name": "stdout",
     "output_type": "stream",
     "text": [
      "       id       type                       name  yearpublished  minplayers  \\\n",
      "0   12333  boardgame          Twilight Struggle         2005.0         2.0   \n",
      "1  120677  boardgame              Terra Mystica         2012.0         2.0   \n",
      "2  102794  boardgame  Caverna: The Cave Farmers         2013.0         1.0   \n",
      "\n",
      "   maxplayers  playingtime  minplaytime  maxplaytime  minage  users_rated  \\\n",
      "0         2.0        180.0        180.0        180.0    13.0        20113   \n",
      "1         5.0        150.0         60.0        150.0    12.0        14383   \n",
      "2         7.0        210.0         30.0        210.0    12.0         9262   \n",
      "\n",
      "   average_rating  bayes_average_rating  total_owners  total_traders  \\\n",
      "0         8.33774               8.22186         26647            372   \n",
      "1         8.28798               8.14232         16519            132   \n",
      "2         8.28994               8.06886         12230             99   \n",
      "\n",
      "   total_wanters  total_wishers  total_comments  total_weights  average_weight  \n",
      "0           1219           5865            5347           2562          3.4785  \n",
      "1           1586           6277            2526           1423          3.8939  \n",
      "2           1476           5600            1700            777          3.7761  \n"
     ]
    }
   ],
   "source": [
    "import pandas as pd\n",
    "import csv\n",
    "\n",
    "board_games = pd.read_csv(\"board_games.csv\")\n",
    "print(board_games.head(3))"
   ]
  },
  {
   "cell_type": "code",
   "execution_count": 2,
   "metadata": {},
   "outputs": [
    {
     "data": {
      "text/plain": [
       "(81312, 20)"
      ]
     },
     "execution_count": 2,
     "metadata": {},
     "output_type": "execute_result"
    }
   ],
   "source": [
    "board_games.shape"
   ]
  },
  {
   "cell_type": "code",
   "execution_count": 3,
   "metadata": {
    "collapsed": true
   },
   "outputs": [],
   "source": [
    "board_games = board_games.dropna(axis=0)"
   ]
  },
  {
   "cell_type": "code",
   "execution_count": 4,
   "metadata": {},
   "outputs": [
    {
     "data": {
      "text/plain": [
       "(81268, 20)"
      ]
     },
     "execution_count": 4,
     "metadata": {},
     "output_type": "execute_result"
    }
   ],
   "source": [
    "board_games.shape"
   ]
  },
  {
   "cell_type": "code",
   "execution_count": 5,
   "metadata": {
    "collapsed": true
   },
   "outputs": [],
   "source": [
    "board_games = board_games[board_games['users_rated'] > 0]"
   ]
  },
  {
   "cell_type": "code",
   "execution_count": 6,
   "metadata": {},
   "outputs": [
    {
     "data": {
      "text/plain": [
       "(56894, 20)"
      ]
     },
     "execution_count": 6,
     "metadata": {},
     "output_type": "execute_result"
    }
   ],
   "source": [
    "board_games.shape"
   ]
  },
  {
   "cell_type": "markdown",
   "metadata": {},
   "source": [
    " # Escogiendo el Error metrico\n",
    " \n",
    " - El error métrico es de suma importancia ya que este nos va a decir si el modelo elegido es adecuado o no, imagenemos que obtenemos un error metrico el cual es igual a la desviación estandar de nuestros datos, eso querra decir que no estamos eligiendo un buen modelo y debemos de cambiarlo, pues deberiamos buscar siempre modelos que nos den un error por debajo de la desviacion estandar y lo mas bajo posible.\n"
   ]
  },
  {
   "cell_type": "code",
   "execution_count": 7,
   "metadata": {},
   "outputs": [
    {
     "data": {
      "image/png": "[encoded data removed]",
      "text/plain": [
       "<matplotlib.figure.Figure at 0x26753bd2710>"
      ]
     },
     "metadata": {},
     "output_type": "display_data"
    }
   ],
   "source": [
    "import matplotlib.pyplot as plt\n",
    "%matplotlib inline \n",
    "\n",
    "plt.hist(board_games['average_rating'])\n",
    "plt.show()"
   ]
  },
  {
   "cell_type": "code",
   "execution_count": 8,
   "metadata": {},
   "outputs": [
    {
     "data": {
      "image/png": "[encoded data removed]",
      "text/plain": [
       "<matplotlib.figure.Figure at 0x267533f39b0>"
      ]
     },
     "metadata": {},
     "output_type": "display_data"
    }
   ],
   "source": [
    "plt.boxplot(board_games['average_rating'])\n",
    "plt.show()"
   ]
  },
  {
   "cell_type": "code",
   "execution_count": 9,
   "metadata": {},
   "outputs": [
    {
     "name": "stdout",
     "output_type": "stream",
     "text": [
      "1.5788299348332662\n",
      "6.016112849333889\n"
     ]
    }
   ],
   "source": [
    "print(board_games['average_rating'].std())\n",
    "print(board_games['average_rating'].mean())"
   ]
  },
  {
   "cell_type": "markdown",
   "metadata": {},
   "source": [
    "- Para este caso, en principio elegiremos \"Mean Square Error\" ya que al ser nuestros datos continuos tiene sentido elegir este error.\n",
    "\n",
    "\n",
    "- Es importante tener en cuenta que \"Mean square error\" no es la unica posibilidad que tenemos, puesto que se trata un modelo de Regresion Lineal y queremos medir la distancia entre el valor real y el predecido, podemos usar \"mean square\" y \"la mediana del error medio\"\n",
    "\n",
    "\n",
    "- Definitivamente no podemos usar, AUC \"Area bajo la curva\" o cualquier otro error de clasificacion ya que este lo usariamos en un problema de clasificacion binaria y este no es el caso."
   ]
  },
  {
   "cell_type": "markdown",
   "metadata": {},
   "source": [
    "# Mostrando los \"Clusters\"\n",
    "\n",
    "#### Los clusters ni mas ni menos son agrupaciones de datos que presentan unas caracteristicas similares. En este caso vamos a mostrar como sacarlos y despues plotearlos para ver su grafica."
   ]
  },
  {
   "cell_type": "code",
   "execution_count": 10,
   "metadata": {},
   "outputs": [
    {
     "name": "stdout",
     "output_type": "stream",
     "text": [
      "   yearpublished  minplayers  maxplayers  playingtime  minplaytime  \\\n",
      "0         2005.0         2.0         2.0        180.0        180.0   \n",
      "1         2012.0         2.0         5.0        150.0         60.0   \n",
      "2         2013.0         1.0         7.0        210.0         30.0   \n",
      "\n",
      "   maxplaytime  minage  users_rated  average_rating  bayes_average_rating  \\\n",
      "0        180.0    13.0        20113         8.33774               8.22186   \n",
      "1        150.0    12.0        14383         8.28798               8.14232   \n",
      "2        210.0    12.0         9262         8.28994               8.06886   \n",
      "\n",
      "   total_owners  total_traders  total_wanters  total_wishers  total_comments  \\\n",
      "0         26647            372           1219           5865            5347   \n",
      "1         16519            132           1586           6277            2526   \n",
      "2         12230             99           1476           5600            1700   \n",
      "\n",
      "   total_weights  average_weight  \n",
      "0           2562          3.4785  \n",
      "1           1423          3.8939  \n",
      "2            777          3.7761  \n"
     ]
    }
   ],
   "source": [
    "from sklearn.cluster import KMeans\n",
    "import numpy as np\n",
    "\n",
    "kmeans = KMeans(n_clusters = 5)\n",
    "\n",
    "numeric_columns = board_games.iloc[:, 3:]\n",
    "print(numeric_columns.head(3))"
   ]
  },
  {
   "cell_type": "code",
   "execution_count": 11,
   "metadata": {},
   "outputs": [
    {
     "data": {
      "text/plain": [
       "KMeans(algorithm='auto', copy_x=True, init='k-means++', max_iter=300,\n",
       "    n_clusters=5, n_init=10, n_jobs=1, precompute_distances='auto',\n",
       "    random_state=None, tol=0.0001, verbose=0)"
      ]
     },
     "execution_count": 11,
     "metadata": {},
     "output_type": "execute_result"
    }
   ],
   "source": [
    "kmeans.fit(numeric_columns)"
   ]
  },
  {
   "cell_type": "code",
   "execution_count": 12,
   "metadata": {},
   "outputs": [
    {
     "name": "stdout",
     "output_type": "stream",
     "text": [
      "[3 3 3 ..., 0 0 0]\n"
     ]
    }
   ],
   "source": [
    "labels = kmeans.labels_\n",
    "print(labels)"
   ]
  },
  {
   "cell_type": "code",
   "execution_count": 13,
   "metadata": {},
   "outputs": [
    {
     "data": {
      "text/plain": [
       "0    3806.296359\n",
       "1    2662.195541\n",
       "2    1979.243229\n",
       "3    2467.201242\n",
       "4    6360.675421\n",
       "dtype: float64"
      ]
     },
     "execution_count": 13,
     "metadata": {},
     "output_type": "execute_result"
    }
   ],
   "source": [
    "game_mean = numeric_columns.apply(np.mean, axis = 1)\n",
    "game_mean.head()"
   ]
  },
  {
   "cell_type": "code",
   "execution_count": 14,
   "metadata": {},
   "outputs": [
    {
     "data": {
      "image/png": "[encoded data removed]",
      "text/plain": [
       "<matplotlib.figure.Figure at 0x267533dc2e8>"
      ]
     },
     "metadata": {},
     "output_type": "display_data"
    }
   ],
   "source": [
    "game_std = numeric_columns.apply(np.std, axis = 1)\n",
    "\n",
    "plt.scatter(x=game_mean, y=game_std, c=game_std)\n",
    "plt.show()"
   ]
  },
  {
   "cell_type": "markdown",
   "metadata": {},
   "source": [
    "### Resultados:\n",
    "    \n",
    "   #### Podemos ver que hay unos pocos juegos que son jugados por muchos jugadores, mientras que otros muchos son jugados por pocos. La mayoria tienen poco publico."
   ]
  },
  {
   "cell_type": "markdown",
   "metadata": {},
   "source": [
    "# Encontrando Correlaciones.\n",
    "\n",
    ">La correlación es la forma numérica en la que la estadística ha podido evaluar la relación de dos o más variables, es decir, mide la dependencia de una variable con respecto de otra variable independiente."
   ]
  },
  {
   "cell_type": "code",
   "execution_count": 15,
   "metadata": {},
   "outputs": [
    {
     "data": {
      "text/plain": [
       "yearpublished           0.108461\n",
       "minplayers             -0.032701\n",
       "maxplayers             -0.008335\n",
       "playingtime             0.048994\n",
       "minplaytime             0.043985\n",
       "maxplaytime             0.048994\n",
       "minage                  0.210049\n",
       "users_rated             0.112564\n",
       "average_rating          1.000000\n",
       "bayes_average_rating    0.231563\n",
       "total_owners            0.137478\n",
       "total_traders           0.119452\n",
       "total_wanters           0.196566\n",
       "total_wishers           0.171375\n",
       "total_comments          0.123714\n",
       "total_weights           0.109691\n",
       "average_weight          0.351081\n",
       "Name: average_rating, dtype: float64"
      ]
     },
     "execution_count": 15,
     "metadata": {},
     "output_type": "execute_result"
    }
   ],
   "source": [
    "correlations = numeric_columns.corr()\n",
    "\n",
    "correlations['average_rating']"
   ]
  },
  {
   "cell_type": "markdown",
   "metadata": {},
   "source": [
    "\n",
    "\n",
    "- Podemos ver como \"average_weight\" esta altamente correlacionado con \"average_rating\", tambien \"yearpublished\" presenta una buena correlacion lo cual nos da una idea de que los juegos nuevos obtienen mejores ratings. Otro ejemplo es \"minage\" cuanto mas alto tiene mejor rating.\n",
    "\n",
    "\n",
    "- Otro insigth que podemos obtener de la correlacion es, ¿Que columnas no estan correlacionadas entre si y por tanto podemos eliminar? En este caso 'bayes_average_rating', 'average_rating' pueden ser eliminadas."
   ]
  },
  {
   "cell_type": "code",
   "execution_count": 16,
   "metadata": {
    "collapsed": true
   },
   "outputs": [],
   "source": [
    "cols_dont_corr = list(numeric_columns.columns)\n",
    "cols_dont_corr.remove('bayes_average_rating')\n",
    "cols_dont_corr.remove('average_rating')\n",
    "# This columns are eliminated because seems that they do not correlate with average_rating\n",
    "\n",
    "corr_cols = cols_dont_corr\n"
   ]
  },
  {
   "cell_type": "markdown",
   "metadata": {},
   "source": [
    "# Creando un Modelo.\n"
   ]
  },
  {
   "cell_type": "markdown",
   "metadata": {},
   "source": [
    "\n",
    "- Vamos a crear un Modelo de Regresion linean y hagamos algunos prediciones sobre los datos dados."
   ]
  },
  {
   "cell_type": "code",
   "execution_count": 17,
   "metadata": {
    "collapsed": true
   },
   "outputs": [],
   "source": [
    "from sklearn.linear_model import LinearRegression\n",
    "\n",
    "lr = LinearRegression()\n",
    "lr.fit(board_games[corr_cols], board_games['average_rating'])\n",
    "predictions = lr.predict(board_games[corr_cols])\n",
    "\n",
    "mse = np.mean((predictions - board_games['average_rating']) ** 2)"
   ]
  },
  {
   "cell_type": "code",
   "execution_count": 18,
   "metadata": {},
   "outputs": [
    {
     "name": "stdout",
     "output_type": "stream",
     "text": [
      "2.093396975833943\n"
     ]
    }
   ],
   "source": [
    "print(mse)"
   ]
  },
  {
   "cell_type": "markdown",
   "metadata": {},
   "source": [
    "\n",
    "- Nuestro Error aqui podemos ver que es muy similar a nuestra desviacion estandar, esto quiere decir como ya adelantamos que deberiamos de escoger otro modelo pues este no nos esta dando nueva informacion, o aportando valor a las predicciones."
   ]
  },
  {
   "cell_type": "code",
   "execution_count": null,
   "metadata": {
    "collapsed": true
   },
   "outputs": [],
   "source": []
  }
 ],
 "metadata": {
  "kernelspec": {
   "display_name": "Python 3",
   "language": "python",
   "name": "python3"
  },
  "language_info": {
   "codemirror_mode": {
    "name": "ipython",
    "version": 3
   },
   "file_extension": ".py",
   "mimetype": "text/x-python",
   "name": "python",
   "nbconvert_exporter": "python",
   "pygments_lexer": "ipython3",
   "version": "3.6.1"
  }
 },
 "nbformat": 4,
 "nbformat_minor": 1
}
